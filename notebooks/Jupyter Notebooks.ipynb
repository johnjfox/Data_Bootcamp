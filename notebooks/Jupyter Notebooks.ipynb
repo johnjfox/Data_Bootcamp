{
 "cells": [
  {
   "cell_type": "markdown",
   "metadata": {},
   "source": [
    "# Jupyter Notebooks\n",
    "\n",
    "There is no shortage of alternatives available for developing Python. The available tools range in complexity from the interactive interface you get by simply typing \"python\" at the commandline in your operating system up to the extremely complex integrated development environments, such as PyCharm or Eclipse. \n",
    "\n",
    "For this course, we'll be using a very popular \"notebook\" based interface called Jupyter. Before you ask, Jupyter admittedly has some significant limitations that mean that it's probably not the tool that you should be using if you're constructing a complex application. But, to be blunt about it, we're not building complex applications right now. Instead, we have basically two goals: (1) to learn enough basic Python to be dangerous and (2) to use Python to perform exploratory analysis. As it turns out, Jupyter is essentially ideal for these tasks:  \n",
    "\n",
    "1. It's extremely simple to use\n",
    "2. It's very interactive, so we can get immediate feedback when we try something in Python.\n",
    "3. It's very interactive, so when we eventually move on to data analysis later, it will provide a great environment for interactively exploring, manipulating and visualizing our data\n",
    "4. It will allow us to share things very easily\n",
    "5. It will allow us to embed runnable Python into a document which can include both formatted text, multimedia, and rendered equations, so it's really straightforward to create self-contained, self-documented examples.\n",
    "\n",
    "As a result, Jupyter has been broadly adopted as a tool for both teaching basic Python and performing basic data analyses."
   ]
  },
  {
   "cell_type": "markdown",
   "metadata": {},
   "source": [
    "## A Video Overview of the Jupyter Interface\n",
    "Rather than a length text description of the Jupyter interface, I've created a video which will give you a quick tour of the major functionality"
   ]
  },
  {
   "cell_type": "code",
   "execution_count": 14,
   "metadata": {
    "collapsed": false
   },
   "outputs": [
    {
     "data": {
      "text/html": [
       "\n",
       "        <iframe\n",
       "            width=\"400\"\n",
       "            height=\"300\"\n",
       "            src=\"https://www.youtube.com/embed/sjfsUzECqK0\"\n",
       "            frameborder=\"0\"\n",
       "            allowfullscreen\n",
       "        ></iframe>\n",
       "        "
      ],
      "text/plain": [
       "<IPython.lib.display.YouTubeVideo at 0x106250e50>"
      ]
     },
     "execution_count": 14,
     "metadata": {},
     "output_type": "execute_result"
    }
   ],
   "source": [
    "from IPython.display import YouTubeVideo\n",
    "YouTubeVideo('sjfsUzECqK0')"
   ]
  },
  {
   "cell_type": "markdown",
   "metadata": {},
   "source": [
    "## Some Useful Keyboard Shortcuts for Jupyter Notebooks\n",
    "\n",
    "- Ctrl+ENTER: will evaluate the cell\n",
    "- Shift+ENTER: will evaluate a cell and select the cell below\n",
    "- Up Arrow: select previous cell\n",
    "- Down Arrow: select next cell\n",
    "- Shift + =: merge current cell with the cell below\n",
    "- **dd**: delete the current cell\n",
    "- Ctrl+S (windows) or Cmd+S (OSX): will save the notebook\n",
    "- TAB will attempt to \"auto-complete\" whatever you're doing. What happens is context dependent. \n",
    "    - it may simply complete the variable name, the function name or whatever it is that you were typing if it's unambiguous\n",
    "    - If there are multiple ways to complete the text, then it will show you several alternatives. It may show a popup of the various alternatives for completing the text you were typing. This may variable names, it may be methods on an object (we'll cover objects later), etc. You can choose between these alternatives using either your mouse or by moving around with your arrow keys\n",
    "- Shift+TAB will show help popup for docstring\n",
    "\n",
    "### Some examples to play with.\n",
    "\n",
    "First let's define a few variables to play with. Don't worry if you're not quite sure about how this works just yet. We'll get to variables later. For now, we're just practicing a bit with notebooks.\n",
    "\n",
    "**Example:** click on the cell below and hit Shift-Return to create these variables"
   ]
  },
  {
   "cell_type": "code",
   "execution_count": 15,
   "metadata": {
    "collapsed": false
   },
   "outputs": [
    {
     "name": "stdout",
     "output_type": "stream",
     "text": [
      "sampleVariable =  100\n",
      "sampleList =  [1, 2, 3]\n"
     ]
    }
   ],
   "source": [
    "sampleVariable = 100\n",
    "sampleList = [1,2,3]\n",
    "\n",
    "print 'sampleVariable = ', sampleVariable\n",
    "print 'sampleList = ', sampleList"
   ]
  },
  {
   "cell_type": "markdown",
   "metadata": {},
   "source": [
    "Now, we can try some of the shortcuts. For example, in the cell below, please type in \"sampleV\" and then hit the TAB key. It will auto-complete to \"sampleVariable\". From here you can Shift-Enter to evaluate sampleVariable"
   ]
  },
  {
   "cell_type": "code",
   "execution_count": null,
   "metadata": {
    "collapsed": false
   },
   "outputs": [],
   "source": []
  },
  {
   "cell_type": "markdown",
   "metadata": {},
   "source": [
    "Now, please type in \"sample\" and then hit the TAB key. You should see both sampleVariable and sampleList as options. Choose one using your keyboard and then evaluate the cell."
   ]
  },
  {
   "cell_type": "code",
   "execution_count": null,
   "metadata": {
    "collapsed": false
   },
   "outputs": [],
   "source": []
  },
  {
   "cell_type": "markdown",
   "metadata": {},
   "source": [
    "Finally, although we're getting a bit ahead of ourselves here in terms of Python, it's useful to note that when we are dealing with Python objects we can get the list of methods available on an object using the same TAB trick. For instance, in our example sampleList is a Python object representing a list. Type in \"sampleList.\" and then tab to see the list of methods you can run on this list. If you don't get anything, be sure that you included the \".\" at the end.\n",
    "\n",
    "For now, don't worry about the notion of an \"object\" or what any of these methods do, we'll come back to this later."
   ]
  },
  {
   "cell_type": "code",
   "execution_count": null,
   "metadata": {
    "collapsed": true
   },
   "outputs": [],
   "source": []
  },
  {
   "cell_type": "markdown",
   "metadata": {
    "collapsed": false
   },
   "source": [
    "## References\n",
    "\n",
    "1. [Documentation for the Jupyter Project](http://jupyter.readthedocs.org/en/latest)\n",
    "2. [Documentation for Jupyter Notebook](http://jupyter-notebook.readthedocs.org/en/latest/notebook.html)\n"
   ]
  }
 ],
 "metadata": {
  "kernelspec": {
   "display_name": "Python 2",
   "language": "python",
   "name": "python2"
  },
  "language_info": {
   "codemirror_mode": {
    "name": "ipython",
    "version": 2
   },
   "file_extension": ".py",
   "mimetype": "text/x-python",
   "name": "python",
   "nbconvert_exporter": "python",
   "pygments_lexer": "ipython2",
   "version": "2.7.11"
  }
 },
 "nbformat": 4,
 "nbformat_minor": 0
}
