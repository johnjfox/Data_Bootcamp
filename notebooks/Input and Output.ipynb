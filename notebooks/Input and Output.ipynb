{
 "cells": [
  {
   "cell_type": "markdown",
   "metadata": {},
   "source": [
    "# Input and Output\n",
    "\n",
    "## Print Formatting\n",
    "\n",
    "We've already seen the print command.\n",
    "\n",
    "In Python 3, print is actually a function not a statement"
   ]
  },
  {
   "cell_type": "code",
   "execution_count": 1,
   "metadata": {
    "collapsed": false
   },
   "outputs": [
    {
     "name": "stdout",
     "output_type": "stream",
     "text": [
      "This is a string\n"
     ]
    }
   ],
   "source": [
    "print 'This is a string'"
   ]
  },
  {
   "cell_type": "code",
   "execution_count": 5,
   "metadata": {
    "collapsed": false
   },
   "outputs": [
    {
     "name": "stdout",
     "output_type": "stream",
     "text": [
      "Place my variable here: String\n"
     ]
    }
   ],
   "source": [
    "x = 'String'\n",
    "\n",
    "print 'Place my variable here: ' + x"
   ]
  },
  {
   "cell_type": "code",
   "execution_count": 6,
   "metadata": {
    "collapsed": false
   },
   "outputs": [
    {
     "name": "stdout",
     "output_type": "stream",
     "text": [
      "Place my variable here: String\n"
     ]
    }
   ],
   "source": [
    "x = 'String'\n",
    "\n",
    "print 'Place my variable here: %s' %(x)"
   ]
  },
  {
   "cell_type": "code",
   "execution_count": 7,
   "metadata": {
    "collapsed": false
   },
   "outputs": [
    {
     "name": "stdout",
     "output_type": "stream",
     "text": [
      "Place my variable here: 123.45\n"
     ]
    }
   ],
   "source": [
    "x = 123.45\n",
    "\n",
    "print 'Place my variable here: %s' %(x)"
   ]
  },
  {
   "cell_type": "code",
   "execution_count": 8,
   "metadata": {
    "collapsed": false
   },
   "outputs": [
    {
     "name": "stdout",
     "output_type": "stream",
     "text": [
      "Floating point number: 13.14\n"
     ]
    }
   ],
   "source": [
    "print 'Floating point number: %1.2f' %(13.145)"
   ]
  },
  {
   "cell_type": "code",
   "execution_count": 9,
   "metadata": {
    "collapsed": false
   },
   "outputs": [
    {
     "name": "stdout",
     "output_type": "stream",
     "text": [
      "Floating point number: 13.145\n"
     ]
    }
   ],
   "source": [
    "print 'Floating point number: %1.3f' %(13.145)"
   ]
  },
  {
   "cell_type": "code",
   "execution_count": 10,
   "metadata": {
    "collapsed": false
   },
   "outputs": [
    {
     "name": "stdout",
     "output_type": "stream",
     "text": [
      "Floating point number: 13.1\n"
     ]
    }
   ],
   "source": [
    "print 'Floating point number: %1.1f' %(13.145)"
   ]
  },
  {
   "cell_type": "code",
   "execution_count": 11,
   "metadata": {
    "collapsed": false
   },
   "outputs": [
    {
     "name": "stdout",
     "output_type": "stream",
     "text": [
      "Floating point number: 13.1450000000\n"
     ]
    }
   ],
   "source": [
    "print 'Floating point number: %1.10f' %(13.145)"
   ]
  },
  {
   "cell_type": "code",
   "execution_count": 12,
   "metadata": {
    "collapsed": false
   },
   "outputs": [
    {
     "name": "stdout",
     "output_type": "stream",
     "text": [
      "Floating point number:             13.1450000000\n"
     ]
    }
   ],
   "source": [
    "print 'Floating point number: %25.10f' %(13.145)"
   ]
  },
  {
   "cell_type": "markdown",
   "metadata": {},
   "source": [
    "## Conversion Format Methods\n",
    "\n",
    "* Convert to string\n"
   ]
  },
  {
   "cell_type": "code",
   "execution_count": 13,
   "metadata": {
    "collapsed": false
   },
   "outputs": [
    {
     "name": "stdout",
     "output_type": "stream",
     "text": [
      "Convert to string 123\n"
     ]
    }
   ],
   "source": [
    "print 'Convert to string %r' %(123)"
   ]
  },
  {
   "cell_type": "code",
   "execution_count": 14,
   "metadata": {
    "collapsed": false
   },
   "outputs": [
    {
     "name": "stdout",
     "output_type": "stream",
     "text": [
      "First; hi!, Second: two, Third: 3\n"
     ]
    }
   ],
   "source": [
    "print 'First; %s, Second: %s, Third: %s' %('hi!', 'two', 3)"
   ]
  },
  {
   "cell_type": "code",
   "execution_count": 15,
   "metadata": {
    "collapsed": false
   },
   "outputs": [
    {
     "name": "stdout",
     "output_type": "stream",
     "text": [
      "First; 2, Second: 2\n"
     ]
    }
   ],
   "source": [
    "print 'First; %s, Second: %s' %(2,2)"
   ]
  },
  {
   "cell_type": "code",
   "execution_count": 16,
   "metadata": {
    "collapsed": false
   },
   "outputs": [
    {
     "name": "stdout",
     "output_type": "stream",
     "text": [
      "First: inserted Second: inserted\n"
     ]
    }
   ],
   "source": [
    "print 'First: {x} Second: {x}'.format(x='inserted')"
   ]
  },
  {
   "cell_type": "code",
   "execution_count": 18,
   "metadata": {
    "collapsed": false
   },
   "outputs": [
    {
     "name": "stdout",
     "output_type": "stream",
     "text": [
      "First: inserted New: two Second: inserted\n"
     ]
    }
   ],
   "source": [
    "print 'First: {x} New: {y} Second: {x}'.format(x='inserted', y = 'two')"
   ]
  },
  {
   "cell_type": "markdown",
   "metadata": {},
   "source": [
    "## References\n",
    "1. [Python Formatting](https://pyformat.info)"
   ]
  },
  {
   "cell_type": "code",
   "execution_count": null,
   "metadata": {
    "collapsed": true
   },
   "outputs": [],
   "source": []
  }
 ],
 "metadata": {
  "kernelspec": {
   "display_name": "Python 2",
   "language": "python",
   "name": "python2"
  },
  "language_info": {
   "codemirror_mode": {
    "name": "ipython",
    "version": 2
   },
   "file_extension": ".py",
   "mimetype": "text/x-python",
   "name": "python",
   "nbconvert_exporter": "python",
   "pygments_lexer": "ipython2",
   "version": "2.7.11"
  }
 },
 "nbformat": 4,
 "nbformat_minor": 0
}
